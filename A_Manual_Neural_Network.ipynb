{
 "cells": [
  {
   "cell_type": "markdown",
   "id": "a941cee7",
   "metadata": {},
   "source": [
    "# Manual Neural Network"
   ]
  },
  {
   "cell_type": "markdown",
   "id": "c17c4230",
   "metadata": {},
   "source": [
    "### Comments for explanation of each formula block"
   ]
  },
  {
   "cell_type": "code",
   "execution_count": 103,
   "id": "e09f226c",
   "metadata": {},
   "outputs": [],
   "source": [
    "import numpy as np\n",
    "import math\n",
    "from sklearn.metrics import r2_score\n",
    "import pandas as pd"
   ]
  },
  {
   "cell_type": "code",
   "execution_count": 57,
   "id": "54981d11",
   "metadata": {},
   "outputs": [],
   "source": [
    "def sigmoid(x):  # sigmoid activation function\n",
    "    return 1 / (1 + math.exp(-x))\n",
    "\n",
    "sigmoid_v = np.vectorize(sigmoid) # vectorize to use with vector\n",
    "\n"
   ]
  },
  {
   "cell_type": "code",
   "execution_count": 115,
   "id": "9a80c5f5",
   "metadata": {},
   "outputs": [],
   "source": [
    "x0 = [1,1,1,1,1,1,1,1,1] # x_0 values\n",
    "x1 = [0,0.5,1,0,0.5,1,0,0.5,1] # x_1 values\n",
    "x2 = [0,0,0,0.5,0.5,0.5,1,1,1] # x_2 values\n",
    "y = [0.5,0.8,1,0.3,0.5,0.8,0.2,0.3,0.5] # true y-values\n",
    "b = [0.1,0.2,0.3] # weights on x-values"
   ]
  },
  {
   "cell_type": "code",
   "execution_count": 116,
   "id": "5006e765",
   "metadata": {},
   "outputs": [],
   "source": [
    "u = np.dot(x0,b[0]) + np.dot(x1,b[1]) + np.dot(x2,b[2]) # Calculate Z (u) for features to pass to sigmoid for prediction"
   ]
  },
  {
   "cell_type": "code",
   "execution_count": 117,
   "id": "5a4a3deb",
   "metadata": {},
   "outputs": [],
   "source": [
    "yp = sigmoid_v(u) # predict y-values based on input features Z (u) using sigmoid function"
   ]
  },
  {
   "cell_type": "code",
   "execution_count": 118,
   "id": "8ba8f3cd",
   "metadata": {},
   "outputs": [],
   "source": [
    "e = y - yp # calculate residuals/errors using true and predicted y-values"
   ]
  },
  {
   "cell_type": "code",
   "execution_count": 119,
   "id": "be66c1b1",
   "metadata": {},
   "outputs": [],
   "source": [
    "d = (1-yp) # compliment of predicted values\n"
   ]
  },
  {
   "cell_type": "code",
   "execution_count": 120,
   "id": "e8ededa6",
   "metadata": {},
   "outputs": [],
   "source": [
    "cv = (-e)* yp * d # MSE loss"
   ]
  },
  {
   "cell_type": "code",
   "execution_count": 121,
   "id": "301ab1d2",
   "metadata": {},
   "outputs": [],
   "source": [
    "gb0 = np.dot(x0,cv) # gradient for x_0\n",
    "gb1 = np.dot(x1, cv) # gradient for x_1\n",
    "gb2 = np.dot(x2,cv) # gradient for x_2\n",
    "\n"
   ]
  },
  {
   "cell_type": "code",
   "execution_count": 129,
   "id": "8827bef1",
   "metadata": {},
   "outputs": [
    {
     "name": "stdout",
     "output_type": "stream",
     "text": [
      "-0.10018200648971765\n",
      "[0.06572687671327174, 0.2393190770011114, 0.20994062107829076]\n",
      "-0.010823411142404371\n",
      "[0.042067846203198964, 0.28279931721730756, 0.1273312361916213]\n",
      "0.06619796039904713\n",
      "[0.026518729854848995, 0.328804673505384, 0.051246456027655166]\n",
      "0.13421323463307744\n",
      "[0.016880905369723576, 0.3759953232645521, -0.01929770924472042]\n",
      "0.1953315103961426\n",
      "[0.011408528301561794, 0.42336411160940324, -0.08517062864300429]\n",
      "0.2508299867672208\n",
      "[0.008800458680419433, 0.4702013748289977, -0.147074878973326]\n",
      "0.30150627032357524\n",
      "[0.008126727854661538, 0.5160348571195122, -0.20555425200046923]\n",
      "0.34790557501008834\n",
      "[0.008741200852060479, 0.5605692659674626, -0.26102330707007315]\n",
      "0.3904446892217559\n",
      "[0.010203454920115925, 0.6036352930981405, -0.31379945102123963]\n",
      "0.42947279930879634\n",
      "[0.012217001912246174, 0.6451502990032386, -0.3641301779962193]\n",
      "0.46529909869710484\n",
      "[0.014583690967878498, 0.6850895813471489, -0.4122137746549661]\n",
      "0.4982046013395248\n",
      "[0.01717148572054479, 0.7234661096553061, -0.4582141020863527]\n",
      "0.5284470627581075\n",
      "[0.01989234682747661, 0.7603165803482095, -0.50227074307069]\n",
      "0.5562631745954332\n",
      "[0.022687350893629714, 0.795691992157957, -0.5445057953568934]\n",
      "0.5818698364088779\n",
      "[0.025516812739495087, 0.8296513648554839, -0.585028353464391]\n",
      "0.6054652155766163\n",
      "[0.028353785071839575, 0.8622576030407519, -0.623937450197994]\n",
      "0.6272298323263783\n",
      "[0.031179800456895748, 0.893574805752712, -0.6613239967048181]\n",
      "0.6473277166268908\n",
      "[0.033982085296932904, 0.9236665429547926, -0.6972720833182808]\n",
      "0.6659076166950841\n",
      "[0.036751733245539375, 0.9525947755395605, -0.7318598779021789]\n",
      "0.6831042224117285\n",
      "[0.03948250162750691, 0.9804192024196954, -0.7651602729430131]\n",
      "0.699039369323198\n",
      "[0.04217001207090539, 1.0071968904634658, -0.7972413762198082]\n",
      "0.7138231969330269\n",
      "[0.044811213886646994, 1.0329820912436305, -0.8281669035120668]\n",
      "0.727555243496824\n",
      "[0.04740401899682823, 1.0578261805763445, -0.8579965088213285]\n",
      "0.7403254667678444\n",
      "[0.04994704964502929, 1.0817776780361186, -0.8867860733098589]\n",
      "0.7522151857108972\n",
      "[0.05243946095179486, 1.1048823177041738, -0.9145879654491063]\n",
      "0.7632979422328539\n",
      "[0.05488081372829595, 1.1271831507776613, -0.9414512796489365]\n",
      "0.7736402847457533\n",
      "[0.057270981516402406, 1.14872066694174, -0.967422057571995]\n",
      "0.7833024771727471\n",
      "[0.059610081316123956, 1.169532925637156, -0.9925434945806255]\n",
      "0.7923391380802461\n",
      "[0.06189842100073682, 1.1896556912302856, -1.0168561327889067]\n",
      "0.8007998151749415\n",
      "[0.06413645871292359, 1.2091225680605366, -1.0403980416746184]\n",
      "0.8087295005986563\n",
      "[0.066324771031501, 1.22796513269714, -1.0632049869480797]\n",
      "0.8161690924047551\n",
      "[0.06846402768344242, 1.2462130616789966, -1.0853105882590315]\n",
      "0.8231558073932036\n",
      "[0.07055497123154787, 1.2638942536674593, -1.1067464662800972]\n",
      "0.8297235501792591\n",
      "[0.07259840060999649, 1.281034945400129, -1.1275423796965853]\n",
      "0.8359032430168887\n",
      "[0.0745951576821088, 1.2976598211532988, -1.1477263526359114]\n",
      "0.841723120522462\n",
      "[0.07654611620445229, 1.31379211564233, -1.1673247930746302]\n",
      "0.8472089930673492\n",
      "[0.07845217272963295, 1.3294537104412856, -1.186362602761825]\n",
      "0.8523844822428727\n",
      "[0.08031423908668003, 1.3446652241054051, -1.2048632791925968]\n",
      "0.8572712314556616\n",
      "[0.08213323615595237, 1.3594460962465804, -1.2228490101545466]\n",
      "0.8618890943903581\n",
      "[0.0839100887136402, 1.3738146658529227, -1.2403407613542063]\n",
      "0.8662563037818585\n",
      "[0.08564572116501883, 1.3877882441660863, -1.257358357610412]\n",
      "0.870389622671263\n",
      "[0.08734105401957204, 1.4013831824394911, -1.2739205580787307]\n",
      "0.87430448007779\n",
      "[0.08899700098765029, 1.414614934900832, -1.2900451259462837]\n",
      "0.8780150928017963\n",
      "[0.09061446659935796, 1.4274981172360859, -1.305748893010494]\n",
      "0.8815345748800018\n",
      "[0.0921943442632126, 1.4400465609017177, -1.321047819529152]\n",
      "0.8848750360412183\n",
      "[0.09373751469575708, 1.4522733635584355, -1.3359570497032731]\n",
      "0.8880476703573812\n",
      "[0.09524484466443835, 1.4641909359048007, -1.3504909631289235]\n",
      "0.8910628361485856\n",
      "[0.09671718599522393, 1.4758110451730344, -1.3646632225298232]\n",
      "0.8939301280803766\n",
      "[0.09815537480400555, 1.4871448555330846, -1.378486818059283]\n",
      "0.896658442285001\n",
      "[0.09956023091714618, 1.4982029656348343, -1.3919741084380306]\n"
     ]
    }
   ],
   "source": [
    "b = [0.1,0.2,0.3] # weights of x-values\n",
    "lr = 0.4 # learning rate\n",
    "for i in range(0,50): # Loop denotes a complete step through training with 50 epochs (steps)\n",
    "    u = np.dot(x0,b[0]) + np.dot(x1,b[1]) + np.dot(x2,b[2])\n",
    "    yp = sigmoid_v(u)\n",
    "    e = y - yp\n",
    "    d = (1-yp)\n",
    "    cv = (-e)* yp * d\n",
    "    gb0 = np.dot(x0,cv)\n",
    "    gb1 = np.dot(x1, cv)\n",
    "    gb2 = np.dot(x2,cv)\n",
    "    b[0] -= gb0 * lr # Update parameter_0 using gradient and learning rate\n",
    "    b[1] -= gb1 * lr # Update parameter_1 using gradient and learning rate\n",
    "    b[2] -= gb2 * lr # Update parameter_2 using gradient and learning rate\n",
    "    \n",
    "    print(r2_score(y,yp)) # Accuracy of predictions\n",
    "    print(b)"
   ]
  },
  {
   "cell_type": "code",
   "execution_count": 123,
   "id": "73b9695c",
   "metadata": {},
   "outputs": [],
   "source": [
    "from sklearn import datasets, linear_model"
   ]
  },
  {
   "cell_type": "code",
   "execution_count": 124,
   "id": "b0a96c6a",
   "metadata": {},
   "outputs": [
    {
     "data": {
      "text/html": [
       "<div>\n",
       "<style scoped>\n",
       "    .dataframe tbody tr th:only-of-type {\n",
       "        vertical-align: middle;\n",
       "    }\n",
       "\n",
       "    .dataframe tbody tr th {\n",
       "        vertical-align: top;\n",
       "    }\n",
       "\n",
       "    .dataframe thead th {\n",
       "        text-align: right;\n",
       "    }\n",
       "</style>\n",
       "<table border=\"1\" class=\"dataframe\">\n",
       "  <thead>\n",
       "    <tr style=\"text-align: right;\">\n",
       "      <th></th>\n",
       "      <th>0</th>\n",
       "    </tr>\n",
       "  </thead>\n",
       "  <tbody>\n",
       "    <tr>\n",
       "      <th>0.0</th>\n",
       "      <td>0.0</td>\n",
       "    </tr>\n",
       "    <tr>\n",
       "      <th>0.0</th>\n",
       "      <td>0.5</td>\n",
       "    </tr>\n",
       "    <tr>\n",
       "      <th>0.0</th>\n",
       "      <td>1.0</td>\n",
       "    </tr>\n",
       "    <tr>\n",
       "      <th>0.5</th>\n",
       "      <td>0.0</td>\n",
       "    </tr>\n",
       "    <tr>\n",
       "      <th>0.5</th>\n",
       "      <td>0.5</td>\n",
       "    </tr>\n",
       "    <tr>\n",
       "      <th>0.5</th>\n",
       "      <td>1.0</td>\n",
       "    </tr>\n",
       "    <tr>\n",
       "      <th>1.0</th>\n",
       "      <td>0.0</td>\n",
       "    </tr>\n",
       "    <tr>\n",
       "      <th>1.0</th>\n",
       "      <td>0.5</td>\n",
       "    </tr>\n",
       "    <tr>\n",
       "      <th>1.0</th>\n",
       "      <td>1.0</td>\n",
       "    </tr>\n",
       "  </tbody>\n",
       "</table>\n",
       "</div>"
      ],
      "text/plain": [
       "       0\n",
       "0.0  0.0\n",
       "0.0  0.5\n",
       "0.0  1.0\n",
       "0.5  0.0\n",
       "0.5  0.5\n",
       "0.5  1.0\n",
       "1.0  0.0\n",
       "1.0  0.5\n",
       "1.0  1.0"
      ]
     },
     "execution_count": 124,
     "metadata": {},
     "output_type": "execute_result"
    }
   ],
   "source": [
    "x_data1 = pd.DataFrame(x1,x2)\n",
    "x_data1"
   ]
  },
  {
   "cell_type": "code",
   "execution_count": 126,
   "id": "61a58c61",
   "metadata": {},
   "outputs": [
    {
     "data": {
      "text/plain": [
       "0.4837786259541984"
      ]
     },
     "execution_count": 126,
     "metadata": {},
     "output_type": "execute_result"
    }
   ],
   "source": [
    "regr = linear_model.LinearRegression() # Linear Model\n",
    "regr.fit(x_data1,y) # Train model\n",
    "\n",
    "yp1 = regr.predict(x_data1) # Predict y-values\n",
    "r2_score(y,yp1)\n"
   ]
  }
 ],
 "metadata": {
  "kernelspec": {
   "display_name": "Python 3 (ipykernel)",
   "language": "python",
   "name": "python3"
  },
  "language_info": {
   "codemirror_mode": {
    "name": "ipython",
    "version": 3
   },
   "file_extension": ".py",
   "mimetype": "text/x-python",
   "name": "python",
   "nbconvert_exporter": "python",
   "pygments_lexer": "ipython3",
   "version": "3.9.12"
  }
 },
 "nbformat": 4,
 "nbformat_minor": 5
}
